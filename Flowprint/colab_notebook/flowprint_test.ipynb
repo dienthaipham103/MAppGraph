{
  "nbformat": 4,
  "nbformat_minor": 0,
  "metadata": {
    "colab": {
      "name": "flowprint.ipynb",
      "provenance": [],
      "collapsed_sections": []
    },
    "kernelspec": {
      "display_name": "Python 3",
      "name": "python3"
    },
    "language_info": {
      "name": "python"
    }
  },
  "cells": [
    {
      "cell_type": "code",
      "metadata": {
        "colab": {
          "base_uri": "https://localhost:8080/"
        },
        "id": "8O-Lsbm7lmmb",
        "outputId": "81aedd18-1ae5-4e5f-a87a-25650d0a5c1a"
      },
      "source": [
        "!wget https://hothienlac.s3-ap-southeast-1.amazonaws.com/flowprint/flowprint.zip"
      ],
      "execution_count": 1,
      "outputs": [
        {
          "output_type": "stream",
          "text": [
            "--2021-06-11 16:19:33--  https://hothienlac.s3-ap-southeast-1.amazonaws.com/flowprint/flowprint.zip\n",
            "Resolving hothienlac.s3-ap-southeast-1.amazonaws.com (hothienlac.s3-ap-southeast-1.amazonaws.com)... 52.219.132.79\n",
            "Connecting to hothienlac.s3-ap-southeast-1.amazonaws.com (hothienlac.s3-ap-southeast-1.amazonaws.com)|52.219.132.79|:443... connected.\n",
            "HTTP request sent, awaiting response... 200 OK\n",
            "Length: 36771 (36K) [application/zip]\n",
            "Saving to: ‘flowprint.zip’\n",
            "\n",
            "flowprint.zip       100%[===================>]  35.91K   167KB/s    in 0.2s    \n",
            "\n",
            "2021-06-11 16:19:34 (167 KB/s) - ‘flowprint.zip’ saved [36771/36771]\n",
            "\n"
          ],
          "name": "stdout"
        }
      ]
    },
    {
      "cell_type": "code",
      "metadata": {
        "colab": {
          "base_uri": "https://localhost:8080/"
        },
        "id": "dlPKl-7glu8E",
        "outputId": "21fe7394-8773-4ce9-8b5c-6eb47ce77c02"
      },
      "source": [
        "!unzip flowprint.zip"
      ],
      "execution_count": 2,
      "outputs": [
        {
          "output_type": "stream",
          "text": [
            "Archive:  flowprint.zip\n",
            "   creating: flowprint/\n",
            "  inflating: flowprint/evaluation.py  \n",
            "   creating: flowprint/flowprint/\n",
            "  inflating: flowprint/flowprint/browser_detector.py  \n",
            "  inflating: flowprint/flowprint/cluster.py  \n",
            "  inflating: flowprint/flowprint/cross_correlation_graph.py  \n",
            "  inflating: flowprint/flowprint/cross_correlation_graph1.py  \n",
            "  inflating: flowprint/flowprint/fingerprint.py  \n",
            "  inflating: flowprint/flowprint/fingerprints.py  \n",
            "  inflating: flowprint/flowprint/flowprint.py  \n",
            "  inflating: flowprint/flowprint/flows.py  \n",
            "  inflating: flowprint/flowprint/flow_generator.py  \n",
            "  inflating: flowprint/flowprint/network_destination.py  \n",
            "  inflating: flowprint/flowprint/preprocessor.py  \n",
            "  inflating: flowprint/flowprint/reader.py  \n",
            "  inflating: flowprint/flowprint/recognition.py  \n",
            "  inflating: flowprint/flowprint/test.py  \n",
            " extracting: flowprint/flowprint/__init__.py  \n",
            "  inflating: flowprint/flowprint/__main__.py  \n",
            "  inflating: flowprint/load_csv.py   \n",
            "  inflating: flowprint/test_models.py  \n",
            "  inflating: flowprint/train_models.py  \n",
            "  inflating: flowprint/__main__.py   \n"
          ],
          "name": "stdout"
        }
      ]
    },
    {
      "cell_type": "code",
      "metadata": {
        "colab": {
          "base_uri": "https://localhost:8080/"
        },
        "id": "2XR2o2Wf4jk0",
        "outputId": "af005b07-874f-423d-d2e9-638f42ee2452"
      },
      "source": [
        "!mv flowprint/* ."
      ],
      "execution_count": 3,
      "outputs": [
        {
          "output_type": "stream",
          "text": [
            "mv: cannot move 'flowprint/flowprint' to './flowprint': Directory not empty\n"
          ],
          "name": "stdout"
        }
      ]
    },
    {
      "cell_type": "code",
      "metadata": {
        "id": "iu8KsMb748pG"
      },
      "source": [
        "!mv flowprint/flowprint/* flowprint"
      ],
      "execution_count": 4,
      "outputs": []
    },
    {
      "cell_type": "code",
      "metadata": {
        "id": "i1tE5cU25XPk"
      },
      "source": [
        "!rm -r flowprint/flowprint"
      ],
      "execution_count": 5,
      "outputs": []
    },
    {
      "cell_type": "code",
      "metadata": {
        "colab": {
          "base_uri": "https://localhost:8080/"
        },
        "id": "p_72n8nB5o_1",
        "outputId": "ada205e4-9f2e-4f43-e887-9a3cd813cff7"
      },
      "source": [
        "from google.colab import drive\n",
        "drive.mount('/content/drive')"
      ],
      "execution_count": 6,
      "outputs": [
        {
          "output_type": "stream",
          "text": [
            "Mounted at /content/drive\n"
          ],
          "name": "stdout"
        }
      ]
    },
    {
      "cell_type": "code",
      "metadata": {
        "id": "yHzhA3nW7CQv"
      },
      "source": [
        "import warnings\n",
        "warnings.filterwarnings(\"ignore\")\n",
        "\n",
        "import os\n",
        "import json\n",
        "from load_csv import load_csv\n",
        "from flowprint.flowprint     import FlowPrint\n",
        "import numpy as np\n",
        "import operator\n",
        "import random\n",
        "from tqdm import tqdm"
      ],
      "execution_count": 1,
      "outputs": []
    },
    {
      "cell_type": "code",
      "metadata": {
        "id": "TTY8dk1gl4gx"
      },
      "source": [
        "MODEL_PATH = '/content/drive/MyDrive/AI PROJECTS/GNN/flowprint/T4/t10/models/0'\n",
        "TEST_DATA_PATH = '/content/drive/MyDrive/AI PROJECTS/GNN/dataset/4_2/test'\n",
        "RESULT_FOLDER = '/content/drive/MyDrive/AI PROJECTS/GNN/flowprint/T4/t10/predicts'\n",
        "\n",
        "MODELS_TO_TEST = os.listdir(MODEL_PATH)"
      ],
      "execution_count": 2,
      "outputs": []
    },
    {
      "cell_type": "code",
      "metadata": {
        "id": "8gmz7uVptGbM"
      },
      "source": [
        "def get_max_frequent(x):\n",
        "\n",
        "    if len(x) == 0:\n",
        "        return 'unknown_unknown'\n",
        "\n",
        "    frequencies = {}\n",
        "    for item in x:\n",
        "        if item in frequencies:\n",
        "            frequencies[item] += 1\n",
        "        else:\n",
        "            frequencies[item] = 1\n",
        "\n",
        "    return max(frequencies.items(), key=operator.itemgetter(1))[0]"
      ],
      "execution_count": 3,
      "outputs": []
    },
    {
      "cell_type": "code",
      "metadata": {
        "id": "75_HUc5s6vQQ"
      },
      "source": [
        "def predict(model_on_memory_file, app_sample):\n",
        "    X, y = list(), list()\n",
        "\n",
        "    app_path = f'{TEST_DATA_PATH}/{\"_\".join(app_sample.split(\"_\")[:-2])}/{app_sample}'\n",
        "    X_, y_ = load_csv(app_path, 'y')\n",
        "    try:\n",
        "        X = np.concatenate(X_)\n",
        "        y = np.concatenate(y_)\n",
        "    except Exception:\n",
        "        X = np.array([], dtype=object)\n",
        "        y = np.array([], dtype=object)\n",
        "\n",
        "    model = FlowPrint()\n",
        "    model.load_on_memory_file(model_on_memory_file)\n",
        "    fp_test = model.fingerprinter.fit_predict(X)\n",
        "    y_pred = [list(_)[0] for _ in model.recognize(fp_test)]\n",
        "    prediction = '_'.join(get_max_frequent(y_pred).split('_')[:-2])\n",
        "\n",
        "    return prediction"
      ],
      "execution_count": 4,
      "outputs": []
    },
    {
      "cell_type": "code",
      "metadata": {
        "id": "OPLZGJA-6xdx"
      },
      "source": [
        "def test_model_with_app(model, app, model_name):\n",
        "    predictions = []\n",
        "\n",
        "    # app_samples_list = tqdm(\n",
        "    #     [_ for _ in os.listdir(f'{TEST_DATA_PATH}/{app}') if _ != '.ipynb_checkpoints'],\n",
        "    #     desc = f'[Model {model_name}] [App: {app}]'\n",
        "    # )\n",
        "\n",
        "    for app_sample in [_ for _ in os.listdir(f'{TEST_DATA_PATH}/{app}') if _ != '.ipynb_checkpoints']:\n",
        "        prediction = predict(model, app_sample)\n",
        "        predictions.append(prediction)\n",
        "\n",
        "    return predictions"
      ],
      "execution_count": 5,
      "outputs": []
    },
    {
      "cell_type": "code",
      "metadata": {
        "id": "2EItcZvq60gI"
      },
      "source": [
        "def test_model(model_name):\n",
        "    if not os.path.exists(f'{RESULT_FOLDER}/{model_name}'):\n",
        "        os.makedirs(f'{RESULT_FOLDER}/{model_name}')\n",
        "\n",
        "    with open(f'{MODEL_PATH}/{model_name}', 'r') as model_file:\n",
        "\n",
        "        model = json.load(model_file)\n",
        "\n",
        "    app_list = [_ for _ in os.listdir(TEST_DATA_PATH) if _ != '.ipynb_checkpoints']\n",
        "    for app in app_list:\n",
        "        result_file = f'{RESULT_FOLDER}/{model_name}/{app}.json'\n",
        "        if os.path.isfile(result_file):\n",
        "            print(f'[ PASSED ]: Model {model_name}\\t{app}\\talready predicted')\n",
        "            continue\n",
        "        \n",
        "        predictions = test_model_with_app(model, app, model_name)\n",
        "        \n",
        "        with open(result_file, 'w') as file:\n",
        "            json.dump(\n",
        "                {\n",
        "                    'predictions': predictions,\n",
        "                },\n",
        "                file,\n",
        "            )\n",
        "        \n",
        "        print(f'[ DONE ]: Model {model_name}\\t{app}')"
      ],
      "execution_count": 11,
      "outputs": []
    },
    {
      "cell_type": "code",
      "metadata": {
        "id": "mbU2u0jn64Vy"
      },
      "source": [
        "for model in MODELS_TO_TEST:\n",
        "    test_model(model)"
      ],
      "execution_count": null,
      "outputs": []
    }
  ]
}